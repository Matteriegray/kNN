{
  "metadata": {
    "kernelspec": {
      "language": "python",
      "display_name": "Python 3",
      "name": "python3"
    },
    "language_info": {
      "name": "python",
      "version": "3.10.14",
      "mimetype": "text/x-python",
      "codemirror_mode": {
        "name": "ipython",
        "version": 3
      },
      "pygments_lexer": "ipython3",
      "nbconvert_exporter": "python",
      "file_extension": ".py"
    },
    "kaggle": {
      "accelerator": "none",
      "dataSources": [
        {
          "sourceId": 9730382,
          "sourceType": "datasetVersion",
          "datasetId": 5954571
        }
      ],
      "dockerImageVersionId": 30786,
      "isInternetEnabled": false,
      "language": "python",
      "sourceType": "notebook",
      "isGpuEnabled": false
    },
    "colab": {
      "name": "kNNeighbours",
      "provenance": [],
      "include_colab_link": true
    }
  },
  "nbformat_minor": 0,
  "nbformat": 4,
  "cells": [
    {
      "cell_type": "markdown",
      "metadata": {
        "id": "view-in-github",
        "colab_type": "text"
      },
      "source": [
        "<a href=\"https://colab.research.google.com/github/Matteriegray/kNN/blob/main/kNNeighbours.ipynb\" target=\"_parent\"><img src=\"https://colab.research.google.com/assets/colab-badge.svg\" alt=\"Open In Colab\"/></a>"
      ]
    },
    {
      "source": [
        "# IMPORTANT: SOME KAGGLE DATA SOURCES ARE PRIVATE\n",
        "# RUN THIS CELL IN ORDER TO IMPORT YOUR KAGGLE DATA SOURCES.\n",
        "import kagglehub\n",
        "kagglehub.login()\n"
      ],
      "metadata": {
        "id": "7Jv5nzcrG88j"
      },
      "cell_type": "code",
      "outputs": [],
      "execution_count": null
    },
    {
      "source": [
        "# IMPORTANT: RUN THIS CELL IN ORDER TO IMPORT YOUR KAGGLE DATA SOURCES,\n",
        "# THEN FEEL FREE TO DELETE THIS CELL.\n",
        "# NOTE: THIS NOTEBOOK ENVIRONMENT DIFFERS FROM KAGGLE'S PYTHON\n",
        "# ENVIRONMENT SO THERE MAY BE MISSING LIBRARIES USED BY YOUR\n",
        "# NOTEBOOK.\n",
        "\n",
        "matteriegray_classified_path = kagglehub.dataset_download('matteriegray/classified')\n",
        "\n",
        "print('Data source import complete.')\n"
      ],
      "metadata": {
        "id": "KsuN7KLVG88x"
      },
      "cell_type": "code",
      "outputs": [],
      "execution_count": null
    },
    {
      "cell_type": "code",
      "source": [
        "import pandas as pd\n",
        "import seaborn as sns\n",
        "import matplotlib.pyplot as plt\n",
        "import numpy as np\n",
        "from sklearn.preprocessing import StandardScaler\n",
        "from sklearn.model_selection import train_test_split\n",
        "%matplotlib inline"
      ],
      "metadata": {
        "_uuid": "8f2839f25d086af736a60e9eeb907d3b93b6e0e5",
        "_cell_guid": "b1076dfc-b9ad-4769-8c92-a6c4dae69d19",
        "execution": {
          "iopub.status.busy": "2024-10-27T03:53:00.817375Z",
          "iopub.execute_input": "2024-10-27T03:53:00.817792Z",
          "iopub.status.idle": "2024-10-27T03:53:04.165987Z",
          "shell.execute_reply.started": "2024-10-27T03:53:00.817736Z",
          "shell.execute_reply": "2024-10-27T03:53:04.164723Z"
        },
        "trusted": true,
        "id": "UUlb_Bs3G880"
      },
      "execution_count": null,
      "outputs": []
    },
    {
      "cell_type": "code",
      "source": [
        "df = pd.read_csv(\"/kaggle/input/classified/Classified Data.txt\",index_col=0)\n",
        "df.head()"
      ],
      "metadata": {
        "execution": {
          "iopub.status.busy": "2024-10-27T03:53:04.168138Z",
          "iopub.execute_input": "2024-10-27T03:53:04.168948Z",
          "iopub.status.idle": "2024-10-27T03:53:04.232573Z",
          "shell.execute_reply.started": "2024-10-27T03:53:04.168904Z",
          "shell.execute_reply": "2024-10-27T03:53:04.231411Z"
        },
        "trusted": true,
        "id": "p0zUMxQBG882",
        "outputId": "2a338ed3-2ecf-4358-ebbc-67e1de39b716"
      },
      "execution_count": null,
      "outputs": [
        {
          "execution_count": 2,
          "output_type": "execute_result",
          "data": {
            "text/plain": "        WTT       PTI       EQW       SBI       LQE       QWG       FDJ  \\\n0  0.913917  1.162073  0.567946  0.755464  0.780862  0.352608  0.759697   \n1  0.635632  1.003722  0.535342  0.825645  0.924109  0.648450  0.675334   \n2  0.721360  1.201493  0.921990  0.855595  1.526629  0.720781  1.626351   \n3  1.234204  1.386726  0.653046  0.825624  1.142504  0.875128  1.409708   \n4  1.279491  0.949750  0.627280  0.668976  1.232537  0.703727  1.115596   \n\n        PJF       HQE       NXJ  TARGET CLASS  \n0  0.643798  0.879422  1.231409             1  \n1  1.013546  0.621552  1.492702             0  \n2  1.154483  0.957877  1.285597             0  \n3  1.380003  1.522692  1.153093             1  \n4  0.646691  1.463812  1.419167             1  ",
            "text/html": "<div>\n<style scoped>\n    .dataframe tbody tr th:only-of-type {\n        vertical-align: middle;\n    }\n\n    .dataframe tbody tr th {\n        vertical-align: top;\n    }\n\n    .dataframe thead th {\n        text-align: right;\n    }\n</style>\n<table border=\"1\" class=\"dataframe\">\n  <thead>\n    <tr style=\"text-align: right;\">\n      <th></th>\n      <th>WTT</th>\n      <th>PTI</th>\n      <th>EQW</th>\n      <th>SBI</th>\n      <th>LQE</th>\n      <th>QWG</th>\n      <th>FDJ</th>\n      <th>PJF</th>\n      <th>HQE</th>\n      <th>NXJ</th>\n      <th>TARGET CLASS</th>\n    </tr>\n  </thead>\n  <tbody>\n    <tr>\n      <th>0</th>\n      <td>0.913917</td>\n      <td>1.162073</td>\n      <td>0.567946</td>\n      <td>0.755464</td>\n      <td>0.780862</td>\n      <td>0.352608</td>\n      <td>0.759697</td>\n      <td>0.643798</td>\n      <td>0.879422</td>\n      <td>1.231409</td>\n      <td>1</td>\n    </tr>\n    <tr>\n      <th>1</th>\n      <td>0.635632</td>\n      <td>1.003722</td>\n      <td>0.535342</td>\n      <td>0.825645</td>\n      <td>0.924109</td>\n      <td>0.648450</td>\n      <td>0.675334</td>\n      <td>1.013546</td>\n      <td>0.621552</td>\n      <td>1.492702</td>\n      <td>0</td>\n    </tr>\n    <tr>\n      <th>2</th>\n      <td>0.721360</td>\n      <td>1.201493</td>\n      <td>0.921990</td>\n      <td>0.855595</td>\n      <td>1.526629</td>\n      <td>0.720781</td>\n      <td>1.626351</td>\n      <td>1.154483</td>\n      <td>0.957877</td>\n      <td>1.285597</td>\n      <td>0</td>\n    </tr>\n    <tr>\n      <th>3</th>\n      <td>1.234204</td>\n      <td>1.386726</td>\n      <td>0.653046</td>\n      <td>0.825624</td>\n      <td>1.142504</td>\n      <td>0.875128</td>\n      <td>1.409708</td>\n      <td>1.380003</td>\n      <td>1.522692</td>\n      <td>1.153093</td>\n      <td>1</td>\n    </tr>\n    <tr>\n      <th>4</th>\n      <td>1.279491</td>\n      <td>0.949750</td>\n      <td>0.627280</td>\n      <td>0.668976</td>\n      <td>1.232537</td>\n      <td>0.703727</td>\n      <td>1.115596</td>\n      <td>0.646691</td>\n      <td>1.463812</td>\n      <td>1.419167</td>\n      <td>1</td>\n    </tr>\n  </tbody>\n</table>\n</div>"
          },
          "metadata": {}
        }
      ]
    },
    {
      "cell_type": "code",
      "source": [
        "# Split the data into features (X) and target (y)\n",
        "X = df.drop('TARGET CLASS', axis=1)\n",
        "y = df['TARGET CLASS']\n",
        "\n",
        "df_feat = pd.DataFrame(X,columns=df.columns[:-1])\n",
        "df_feat.head()"
      ],
      "metadata": {
        "execution": {
          "iopub.status.busy": "2024-10-27T03:53:04.235564Z",
          "iopub.execute_input": "2024-10-27T03:53:04.236074Z",
          "iopub.status.idle": "2024-10-27T03:53:04.254769Z",
          "shell.execute_reply.started": "2024-10-27T03:53:04.23602Z",
          "shell.execute_reply": "2024-10-27T03:53:04.253247Z"
        },
        "trusted": true,
        "id": "xwcv7ab7G885",
        "outputId": "435c8991-a960-4422-d5d4-227134570221"
      },
      "execution_count": null,
      "outputs": [
        {
          "execution_count": 3,
          "output_type": "execute_result",
          "data": {
            "text/plain": "        WTT       PTI       EQW       SBI       LQE       QWG       FDJ  \\\n0  0.913917  1.162073  0.567946  0.755464  0.780862  0.352608  0.759697   \n1  0.635632  1.003722  0.535342  0.825645  0.924109  0.648450  0.675334   \n2  0.721360  1.201493  0.921990  0.855595  1.526629  0.720781  1.626351   \n3  1.234204  1.386726  0.653046  0.825624  1.142504  0.875128  1.409708   \n4  1.279491  0.949750  0.627280  0.668976  1.232537  0.703727  1.115596   \n\n        PJF       HQE       NXJ  \n0  0.643798  0.879422  1.231409  \n1  1.013546  0.621552  1.492702  \n2  1.154483  0.957877  1.285597  \n3  1.380003  1.522692  1.153093  \n4  0.646691  1.463812  1.419167  ",
            "text/html": "<div>\n<style scoped>\n    .dataframe tbody tr th:only-of-type {\n        vertical-align: middle;\n    }\n\n    .dataframe tbody tr th {\n        vertical-align: top;\n    }\n\n    .dataframe thead th {\n        text-align: right;\n    }\n</style>\n<table border=\"1\" class=\"dataframe\">\n  <thead>\n    <tr style=\"text-align: right;\">\n      <th></th>\n      <th>WTT</th>\n      <th>PTI</th>\n      <th>EQW</th>\n      <th>SBI</th>\n      <th>LQE</th>\n      <th>QWG</th>\n      <th>FDJ</th>\n      <th>PJF</th>\n      <th>HQE</th>\n      <th>NXJ</th>\n    </tr>\n  </thead>\n  <tbody>\n    <tr>\n      <th>0</th>\n      <td>0.913917</td>\n      <td>1.162073</td>\n      <td>0.567946</td>\n      <td>0.755464</td>\n      <td>0.780862</td>\n      <td>0.352608</td>\n      <td>0.759697</td>\n      <td>0.643798</td>\n      <td>0.879422</td>\n      <td>1.231409</td>\n    </tr>\n    <tr>\n      <th>1</th>\n      <td>0.635632</td>\n      <td>1.003722</td>\n      <td>0.535342</td>\n      <td>0.825645</td>\n      <td>0.924109</td>\n      <td>0.648450</td>\n      <td>0.675334</td>\n      <td>1.013546</td>\n      <td>0.621552</td>\n      <td>1.492702</td>\n    </tr>\n    <tr>\n      <th>2</th>\n      <td>0.721360</td>\n      <td>1.201493</td>\n      <td>0.921990</td>\n      <td>0.855595</td>\n      <td>1.526629</td>\n      <td>0.720781</td>\n      <td>1.626351</td>\n      <td>1.154483</td>\n      <td>0.957877</td>\n      <td>1.285597</td>\n    </tr>\n    <tr>\n      <th>3</th>\n      <td>1.234204</td>\n      <td>1.386726</td>\n      <td>0.653046</td>\n      <td>0.825624</td>\n      <td>1.142504</td>\n      <td>0.875128</td>\n      <td>1.409708</td>\n      <td>1.380003</td>\n      <td>1.522692</td>\n      <td>1.153093</td>\n    </tr>\n    <tr>\n      <th>4</th>\n      <td>1.279491</td>\n      <td>0.949750</td>\n      <td>0.627280</td>\n      <td>0.668976</td>\n      <td>1.232537</td>\n      <td>0.703727</td>\n      <td>1.115596</td>\n      <td>0.646691</td>\n      <td>1.463812</td>\n      <td>1.419167</td>\n    </tr>\n  </tbody>\n</table>\n</div>"
          },
          "metadata": {}
        }
      ]
    },
    {
      "cell_type": "code",
      "source": [
        "# Split the data into training and test sets\n",
        "X_train, X_test, y_train, y_test = train_test_split(X, y, test_size=0.2)\n",
        "\n",
        "# Scale the features using StandardScaler\n",
        "scaler = StandardScaler()\n",
        "X_train = scaler.fit_transform(X_train)\n",
        "X_test = scaler.transform(X_test)"
      ],
      "metadata": {
        "execution": {
          "iopub.status.busy": "2024-10-27T03:53:04.257644Z",
          "iopub.execute_input": "2024-10-27T03:53:04.258464Z",
          "iopub.status.idle": "2024-10-27T03:53:04.277438Z",
          "shell.execute_reply.started": "2024-10-27T03:53:04.258398Z",
          "shell.execute_reply": "2024-10-27T03:53:04.276061Z"
        },
        "trusted": true,
        "id": "s-hr-g1HG887"
      },
      "execution_count": null,
      "outputs": []
    },
    {
      "cell_type": "code",
      "source": [
        "from sklearn.neighbors import KNeighborsClassifier"
      ],
      "metadata": {
        "execution": {
          "iopub.status.busy": "2024-10-27T03:53:04.279015Z",
          "iopub.execute_input": "2024-10-27T03:53:04.279418Z",
          "iopub.status.idle": "2024-10-27T03:53:04.467239Z",
          "shell.execute_reply.started": "2024-10-27T03:53:04.279378Z",
          "shell.execute_reply": "2024-10-27T03:53:04.465765Z"
        },
        "trusted": true,
        "id": "Jbkit1-uG889"
      },
      "execution_count": null,
      "outputs": []
    },
    {
      "cell_type": "code",
      "source": [
        "knn = KNeighborsClassifier(n_neighbors=1)\n",
        "knn.fit(X_train,y_train)\n",
        "pred = knn.predict(X_test)\n"
      ],
      "metadata": {
        "execution": {
          "iopub.status.busy": "2024-10-27T03:53:04.469312Z",
          "iopub.execute_input": "2024-10-27T03:53:04.469811Z",
          "iopub.status.idle": "2024-10-27T03:53:04.523827Z",
          "shell.execute_reply.started": "2024-10-27T03:53:04.469745Z",
          "shell.execute_reply": "2024-10-27T03:53:04.522514Z"
        },
        "trusted": true,
        "id": "mpEUQbEkG88_"
      },
      "execution_count": null,
      "outputs": []
    },
    {
      "cell_type": "code",
      "source": [
        "from sklearn.metrics import classification_report,confusion_matrix\n",
        "print(confusion_matrix(y_test,pred))"
      ],
      "metadata": {
        "execution": {
          "iopub.status.busy": "2024-10-27T03:53:04.525323Z",
          "iopub.execute_input": "2024-10-27T03:53:04.526087Z",
          "iopub.status.idle": "2024-10-27T03:53:04.535453Z",
          "shell.execute_reply.started": "2024-10-27T03:53:04.526036Z",
          "shell.execute_reply": "2024-10-27T03:53:04.534072Z"
        },
        "trusted": true,
        "id": "5A8QkIX2G89B",
        "outputId": "78af667c-2f80-4b25-fbd0-5def6a89ea43"
      },
      "execution_count": null,
      "outputs": [
        {
          "name": "stdout",
          "text": "[[89  7]\n [ 5 99]]\n",
          "output_type": "stream"
        }
      ]
    },
    {
      "cell_type": "code",
      "source": [
        "print(classification_report(y_test,pred))"
      ],
      "metadata": {
        "execution": {
          "iopub.status.busy": "2024-10-27T03:53:04.537216Z",
          "iopub.execute_input": "2024-10-27T03:53:04.537731Z",
          "iopub.status.idle": "2024-10-27T03:53:04.556639Z",
          "shell.execute_reply.started": "2024-10-27T03:53:04.537664Z",
          "shell.execute_reply": "2024-10-27T03:53:04.555418Z"
        },
        "trusted": true,
        "id": "d6aTAf7-G89C",
        "outputId": "ea15b12e-6625-4764-9b76-f36e9af21369"
      },
      "execution_count": null,
      "outputs": [
        {
          "name": "stdout",
          "text": "              precision    recall  f1-score   support\n\n           0       0.95      0.93      0.94        96\n           1       0.93      0.95      0.94       104\n\n    accuracy                           0.94       200\n   macro avg       0.94      0.94      0.94       200\nweighted avg       0.94      0.94      0.94       200\n\n",
          "output_type": "stream"
        }
      ]
    },
    {
      "cell_type": "code",
      "source": [
        "error_rate = []\n",
        "\n",
        "# Will take some time\n",
        "for i in range(1,40):\n",
        "\n",
        "    knn = KNeighborsClassifier(n_neighbors=i)\n",
        "    knn.fit(X_train,y_train)\n",
        "    pred_i = knn.predict(X_test)\n",
        "    error_rate.append(np.mean(pred_i != y_test))"
      ],
      "metadata": {
        "execution": {
          "iopub.status.busy": "2024-10-27T03:53:04.558071Z",
          "iopub.execute_input": "2024-10-27T03:53:04.558497Z",
          "iopub.status.idle": "2024-10-27T03:53:05.264836Z",
          "shell.execute_reply.started": "2024-10-27T03:53:04.558458Z",
          "shell.execute_reply": "2024-10-27T03:53:05.263336Z"
        },
        "trusted": true,
        "id": "4ux7ujT7G89E"
      },
      "execution_count": null,
      "outputs": []
    },
    {
      "cell_type": "code",
      "source": [
        "plt.figure(figsize=(10,6))\n",
        "plt.plot(range(1,40),error_rate,color='blue', linestyle='dashed', marker='o',\n",
        "         markerfacecolor='red', markersize=10)\n",
        "plt.title('Error Rate vs. K Value')\n",
        "plt.xlabel('K')\n",
        "plt.ylabel('Error Rate')"
      ],
      "metadata": {
        "execution": {
          "iopub.status.busy": "2024-10-27T03:53:05.268405Z",
          "iopub.execute_input": "2024-10-27T03:53:05.268901Z",
          "iopub.status.idle": "2024-10-27T03:53:05.642128Z",
          "shell.execute_reply.started": "2024-10-27T03:53:05.268859Z",
          "shell.execute_reply": "2024-10-27T03:53:05.640733Z"
        },
        "trusted": true,
        "id": "W-bxO876G89F",
        "outputId": "d0698539-b546-4dd6-b914-ef330fb749d4"
      },
      "execution_count": null,
      "outputs": [
        {
          "execution_count": 10,
          "output_type": "execute_result",
          "data": {
            "text/plain": "Text(0, 0.5, 'Error Rate')"
          },
          "metadata": {}
        },
        {
          "output_type": "display_data",
          "data": {
            "text/plain": "<Figure size 1000x600 with 1 Axes>",
            "image/png": "[encoded data removed]"
          },
          "metadata": {}
        }
      ]
    },
    {
      "cell_type": "code",
      "source": [
        "knn = KNeighborsClassifier(n_neighbors=23)\n",
        "\n",
        "knn.fit(X_train,y_train)\n",
        "pred = knn.predict(X_test)\n",
        "\n",
        "print('WITH K=11')\n",
        "print('\\n')\n",
        "print(confusion_matrix(y_test,pred))\n",
        "print('\\n')\n",
        "print(classification_report(y_test,pred))"
      ],
      "metadata": {
        "execution": {
          "iopub.status.busy": "2024-10-27T03:53:05.643826Z",
          "iopub.execute_input": "2024-10-27T03:53:05.644311Z",
          "iopub.status.idle": "2024-10-27T03:53:05.689002Z",
          "shell.execute_reply.started": "2024-10-27T03:53:05.644259Z",
          "shell.execute_reply": "2024-10-27T03:53:05.687657Z"
        },
        "trusted": true,
        "id": "K3MyOjXeG89G",
        "outputId": "1fb2353f-8d04-4a70-c03b-4bb99349a61c"
      },
      "execution_count": null,
      "outputs": [
        {
          "name": "stdout",
          "text": "WITH K=11\n\n\n[[ 90   6]\n [  2 102]]\n\n\n              precision    recall  f1-score   support\n\n           0       0.98      0.94      0.96        96\n           1       0.94      0.98      0.96       104\n\n    accuracy                           0.96       200\n   macro avg       0.96      0.96      0.96       200\nweighted avg       0.96      0.96      0.96       200\n\n",
          "output_type": "stream"
        }
      ]
    }
  ]
}